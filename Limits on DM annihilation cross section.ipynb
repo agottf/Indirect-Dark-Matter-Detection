{
 "cells": [
  {
   "cell_type": "markdown",
   "metadata": {},
   "source": [
    "This document is attributed to Alex Drlica-Wagner. For source file, click [here](\"http://www-glast.stanford.edu/pub_data/1048/example3.py\").\n",
    "\n",
    "For more examples, data, and likefiles click [here](\"http://www-glast.stanford.edu/pub_data/1048/\")."
   ]
  },
  {
   "cell_type": "code",
   "execution_count": 1,
   "metadata": {},
   "outputs": [],
   "source": [
    "import numpy as np\n",
    "import pylab as plt\n",
    "import matplotlib\n",
    "%matplotlib inline"
   ]
  },
  {
   "cell_type": "code",
   "execution_count": 2,
   "metadata": {},
   "outputs": [],
   "source": [
    "from scipy.interpolate import interp1d\n",
    "from scipy.integrate import quad\n",
    "from scipy.optimize import brentq"
   ]
  },
  {
   "cell_type": "code",
   "execution_count": 3,
   "metadata": {},
   "outputs": [],
   "source": [
    "def eflux(spectrum, emin=1e2, emax=1e5, quiet=False):\n",
    "    # Integrate a generic spectrum, multiplied by E, to get the energy flux.\n",
    "    espectrum = lambda e: spectrum(e)*e\n",
    "    tol = min(espectrum(emin),espectrum(emax))*1e-10\n",
    "    try:\n",
    "        return quad(espectrum,emin,emax,epsabs=tol,full_output=True)[0]\n",
    "    except (Exception, msg):\n",
    "        print('Numerical error \"%s\" when calculating integral flux.' % msg)\n",
    "        return np.nan"
   ]
  },
  {
   "cell_type": "markdown",
   "metadata": {},
   "source": [
    "Keep numpy from complaining about dN/dE = 0..."
   ]
  },
  {
   "cell_type": "code",
   "execution_count": 4,
   "metadata": {},
   "outputs": [
    {
     "data": {
      "text/plain": [
       "{'divide': 'warn', 'over': 'warn', 'under': 'ignore', 'invalid': 'warn'}"
      ]
     },
     "execution_count": 4,
     "metadata": {},
     "output_type": "execute_result"
    }
   ],
   "source": [
    "np.seterr(divide='ignore',invalid='ignore')"
   ]
  },
  {
   "cell_type": "markdown",
   "metadata": {},
   "source": [
    "Analyze Draco with 100 GeV b-bbar spectrum"
   ]
  },
  {
   "cell_type": "code",
   "execution_count": 5,
   "metadata": {},
   "outputs": [],
   "source": [
    "likefile = 'http://www-glast.stanford.edu/pub_data/1048/like_draco.txt'\n",
    "specfile = 'specfile2.txt'"
   ]
  },
  {
   "cell_type": "markdown",
   "metadata": {},
   "source": [
    "J-Factor of Draco (*no J-factor uncertainty included*)"
   ]
  },
  {
   "cell_type": "code",
   "execution_count": 6,
   "metadata": {},
   "outputs": [],
   "source": [
    "jfactor = 10**18.83"
   ]
  },
  {
   "cell_type": "markdown",
   "metadata": {},
   "source": [
    "Spectral file created assuming J=10^18 GeV^2/cm^5, sigmav=1e-25 cm^3/s"
   ]
  },
  {
   "cell_type": "code",
   "execution_count": 7,
   "metadata": {},
   "outputs": [],
   "source": [
    "j0 = 1e18\n",
    "sigmav0 = 1e-25"
   ]
  },
  {
   "cell_type": "markdown",
   "metadata": {},
   "source": [
    "Load the likelihood"
   ]
  },
  {
   "cell_type": "code",
   "execution_count": 8,
   "metadata": {},
   "outputs": [],
   "source": [
    "data = np.loadtxt(likefile, unpack=True)\n",
    "emins, emaxs = np.unique(data[0]),np.unique(data[1])\n",
    "ebin = np.sqrt(emins*emaxs)\n",
    "efluxes = data[2].reshape(len(emins),-1)\n",
    "logLikes = data[3].reshape(len(emins),-1)"
   ]
  },
  {
   "cell_type": "markdown",
   "metadata": {},
   "source": [
    "Load the spectrum. BE SURE TO CHECK UNITS The data is in GeV"
   ]
  },
  {
   "cell_type": "code",
   "execution_count": 9,
   "metadata": {},
   "outputs": [],
   "source": [
    "energy,dnde = np.loadtxt(specfile,unpack=True)\n",
    "energy *=1000\n",
    "log_energy = np.log10(energy)\n",
    "log_dnde = np.log10(dnde)\n",
    "log_interp = interp1d(log_energy,log_dnde)\n",
    "spectrum = lambda e: np.nan_to_num(10**( log_interp(np.log10(e)) ))"
   ]
  },
  {
   "cell_type": "markdown",
   "metadata": {},
   "source": [
    "Predict energy flux from nominal spectral values"
   ]
  },
  {
   "cell_type": "markdown",
   "metadata": {},
   "source": [
    "\n",
    "quick error fix: I let the interp1d function extrapolate. See the above 'log_interp'"
   ]
  },
  {
   "cell_type": "code",
   "execution_count": 10,
   "metadata": {},
   "outputs": [],
   "source": [
    "pred = np.array([eflux(spectrum,e1,e2) for e1,e2 in zip(emins,emaxs)])"
   ]
  },
  {
   "cell_type": "markdown",
   "metadata": {},
   "source": [
    "Interpolated log-likelihoods in each energy bin"
   ]
  },
  {
   "cell_type": "code",
   "execution_count": 11,
   "metadata": {},
   "outputs": [],
   "source": [
    "likes = [ interp1d(f,l-l.max()) for f,l in zip(efluxes,logLikes) ]"
   ]
  },
  {
   "cell_type": "markdown",
   "metadata": {},
   "source": [
    "Global log-likelihood summed over energy bins"
   ]
  },
  {
   "cell_type": "code",
   "execution_count": 12,
   "metadata": {},
   "outputs": [],
   "source": [
    "like = lambda c: sum([lnlfn(c*p) for lnlfn,p in zip(likes,pred)])"
   ]
  },
  {
   "cell_type": "markdown",
   "metadata": {},
   "source": [
    "Scan range for global log-likelihood"
   ]
  },
  {
   "cell_type": "code",
   "execution_count": 13,
   "metadata": {},
   "outputs": [],
   "source": [
    "epsilon = 1e-4 #Just to make sure we stay within the interpolation range\n",
    "xmin = epsilon\n",
    "xmax = np.log10(efluxes.max()/efluxes[efluxes>0].min()) - epsilon\n",
    "x = np.logspace(xmin,xmax,250)\n",
    "\n",
    "norm0 = efluxes[efluxes>0].min() / pred.max()\n",
    "norms = norm0 * x"
   ]
  },
  {
   "cell_type": "markdown",
   "metadata": {},
   "source": [
    "Global log-likelihood using nominal value of nuisance parameter"
   ]
  },
  {
   "cell_type": "code",
   "execution_count": 14,
   "metadata": {},
   "outputs": [],
   "source": [
    "lnl = np.array([like(n) for n in norms])"
   ]
  },
  {
   "cell_type": "markdown",
   "metadata": {},
   "source": [
    "Convert global log-likelihood back into physical units"
   ]
  },
  {
   "cell_type": "code",
   "execution_count": 15,
   "metadata": {},
   "outputs": [
    {
     "name": "stdout",
     "output_type": "stream",
     "text": [
      "Upper Limit: 3.31759e-43\n"
     ]
    }
   ],
   "source": [
    "sigmav = j0/jfactor * sigmav0 * norms\n",
    "lnlfn = interp1d(sigmav,lnl)\n",
    "mle = lnl.max()\n",
    "sigmav_mle = sigmav[lnl.argmax()]\n",
    "delta = 2.71/2\n",
    "limit = brentq(lambda x: lnlfn(x)-mle+delta, sigmav_mle, sigmav.max(), xtol=1e-10*sigmav_mle)\n",
    "print(\"Upper Limit: %.5e\" %limit)"
   ]
  },
  {
   "cell_type": "code",
   "execution_count": 16,
   "metadata": {},
   "outputs": [
    {
     "data": {
      "text/plain": [
       "array([5.00000000e+02, 6.86298296e+02, 9.42010703e+02, 1.29300068e+03,\n",
       "       1.77476833e+03, 2.43604096e+03, 3.34370152e+03, 4.58955332e+03,\n",
       "       6.29960525e+03, 8.64681670e+03, 1.18685911e+04, 1.62907878e+04,\n",
       "       2.23606798e+04, 3.06921929e+04, 4.21279994e+04, 5.78247484e+04,\n",
       "       7.93700526e+04, 1.08943064e+05, 1.49534878e+05, 2.05251064e+05,\n",
       "       2.81726911e+05, 3.86697399e+05, 5.30779532e+05, 7.28546177e+05])"
      ]
     },
     "execution_count": 16,
     "metadata": {},
     "output_type": "execute_result"
    }
   ],
   "source": [
    "energy"
   ]
  },
  {
   "cell_type": "code",
   "execution_count": 17,
   "metadata": {},
   "outputs": [
    {
     "data": {
      "text/plain": [
       "array([   500.      ,    666.760716,    889.139705,   1185.68685 ,\n",
       "         1581.13883 ,   2108.48252 ,   2811.70663 ,   3749.47105 ,\n",
       "         5000.      ,   6667.60716 ,   8891.39705 ,  11856.8685  ,\n",
       "        15811.3883  ,  21084.8252  ,  28117.0663  ,  37494.7105  ,\n",
       "        50000.      ,  66676.0716  ,  88913.9705  , 118568.685   ,\n",
       "       158113.883   , 210848.252   , 281170.663   , 374947.105   ])"
      ]
     },
     "execution_count": 17,
     "metadata": {},
     "output_type": "execute_result"
    }
   ],
   "source": [
    "emins"
   ]
  },
  {
   "cell_type": "code",
   "execution_count": 18,
   "metadata": {},
   "outputs": [
    {
     "data": {
      "text/plain": [
       "array([   666.760716,    889.139705,   1185.68685 ,   1581.13883 ,\n",
       "         2108.48252 ,   2811.70663 ,   3749.47105 ,   5000.      ,\n",
       "         6667.60716 ,   8891.39705 ,  11856.8685  ,  15811.3883  ,\n",
       "        21084.8252  ,  28117.0663  ,  37494.7105  ,  50000.      ,\n",
       "        66676.0716  ,  88913.9705  , 118568.685   , 158113.883   ,\n",
       "       210848.252   , 281170.663   , 374947.105   , 500000.      ])"
      ]
     },
     "execution_count": 18,
     "metadata": {},
     "output_type": "execute_result"
    }
   ],
   "source": [
    "emaxs"
   ]
  },
  {
   "cell_type": "code",
   "execution_count": null,
   "metadata": {},
   "outputs": [],
   "source": []
  }
 ],
 "metadata": {
  "kernelspec": {
   "display_name": "Python 3",
   "language": "python",
   "name": "python3"
  },
  "language_info": {
   "codemirror_mode": {
    "name": "ipython",
    "version": 3
   },
   "file_extension": ".py",
   "mimetype": "text/x-python",
   "name": "python",
   "nbconvert_exporter": "python",
   "pygments_lexer": "ipython3",
   "version": "3.8.5"
  }
 },
 "nbformat": 4,
 "nbformat_minor": 4
}
