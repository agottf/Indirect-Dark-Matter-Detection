{
 "cells": [
  {
   "cell_type": "markdown",
   "metadata": {},
   "source": [
    "This program takes a spectrum file of DM annihilation and compares it to Fermi data."
   ]
  },
  {
   "cell_type": "code",
   "execution_count": 1,
   "metadata": {},
   "outputs": [],
   "source": [
    "import numpy as np\n",
    "import pandas as pd\n",
    "import pylab as plt\n",
    "import matplotlib\n",
    "%matplotlib inline"
   ]
  },
  {
   "cell_type": "code",
   "execution_count": 2,
   "metadata": {},
   "outputs": [],
   "source": [
    "from scipy.interpolate import interp1d\n",
    "from scipy.integrate import quad\n",
    "from scipy.optimize import brentq, fsolve"
   ]
  },
  {
   "cell_type": "markdown",
   "metadata": {},
   "source": [
    "# Format data"
   ]
  },
  {
   "cell_type": "markdown",
   "metadata": {},
   "source": [
    "## Name files"
   ]
  },
  {
   "cell_type": "code",
   "execution_count": 3,
   "metadata": {},
   "outputs": [],
   "source": [
    "specfile = 'specfile.txt'\n",
    "likefile = 'http://www-glast.stanford.edu/pub_data/1048/like_draco.txt'"
   ]
  },
  {
   "cell_type": "markdown",
   "metadata": {},
   "source": [
    "Load Likelihood"
   ]
  },
  {
   "cell_type": "code",
   "execution_count": 4,
   "metadata": {},
   "outputs": [
    {
     "data": {
      "text/html": [
       "<div>\n",
       "<style scoped>\n",
       "    .dataframe tbody tr th:only-of-type {\n",
       "        vertical-align: middle;\n",
       "    }\n",
       "\n",
       "    .dataframe tbody tr th {\n",
       "        vertical-align: top;\n",
       "    }\n",
       "\n",
       "    .dataframe thead th {\n",
       "        text-align: right;\n",
       "    }\n",
       "</style>\n",
       "<table border=\"1\" class=\"dataframe\">\n",
       "  <thead>\n",
       "    <tr style=\"text-align: right;\">\n",
       "      <th></th>\n",
       "      <th>emins</th>\n",
       "      <th>emaxs</th>\n",
       "      <th>efluxes</th>\n",
       "      <th>logLikes</th>\n",
       "    </tr>\n",
       "  </thead>\n",
       "  <tbody>\n",
       "    <tr>\n",
       "      <th>0</th>\n",
       "      <td>500.0</td>\n",
       "      <td>666.760716</td>\n",
       "      <td>0.000000e+00</td>\n",
       "      <td>-0.397627</td>\n",
       "    </tr>\n",
       "    <tr>\n",
       "      <th>1</th>\n",
       "      <td>500.0</td>\n",
       "      <td>666.760716</td>\n",
       "      <td>1.767673e-10</td>\n",
       "      <td>-0.394287</td>\n",
       "    </tr>\n",
       "    <tr>\n",
       "      <th>2</th>\n",
       "      <td>500.0</td>\n",
       "      <td>666.760716</td>\n",
       "      <td>3.143417e-10</td>\n",
       "      <td>-0.391698</td>\n",
       "    </tr>\n",
       "    <tr>\n",
       "      <th>3</th>\n",
       "      <td>500.0</td>\n",
       "      <td>666.760716</td>\n",
       "      <td>5.589874e-10</td>\n",
       "      <td>-0.387117</td>\n",
       "    </tr>\n",
       "    <tr>\n",
       "      <th>4</th>\n",
       "      <td>500.0</td>\n",
       "      <td>666.760716</td>\n",
       "      <td>9.940358e-10</td>\n",
       "      <td>-0.379042</td>\n",
       "    </tr>\n",
       "  </tbody>\n",
       "</table>\n",
       "</div>"
      ],
      "text/plain": [
       "   emins       emaxs       efluxes  logLikes\n",
       "0  500.0  666.760716  0.000000e+00 -0.397627\n",
       "1  500.0  666.760716  1.767673e-10 -0.394287\n",
       "2  500.0  666.760716  3.143417e-10 -0.391698\n",
       "3  500.0  666.760716  5.589874e-10 -0.387117\n",
       "4  500.0  666.760716  9.940358e-10 -0.379042"
      ]
     },
     "execution_count": 4,
     "metadata": {},
     "output_type": "execute_result"
    }
   ],
   "source": [
    "data = pd.read_csv(likefile, skiprows = 2, header=None, delimiter = \"\\s+\")\n",
    "data.columns = [\"emins\", \"emaxs\", \"efluxes\", \"logLikes\"]\n",
    "data.head()"
   ]
  },
  {
   "cell_type": "markdown",
   "metadata": {},
   "source": [
    "Divide Fermi data into bins"
   ]
  },
  {
   "cell_type": "code",
   "execution_count": 5,
   "metadata": {},
   "outputs": [],
   "source": [
    "binefluxes = []\n",
    "def efluxes(bin):\n",
    "    interp = interp1d(bin['logLikes'], bin['efluxes'])\n",
    "    binefluxes.append(interp(dll))"
   ]
  },
  {
   "cell_type": "code",
   "execution_count": 6,
   "metadata": {},
   "outputs": [],
   "source": [
    "#dll = -2.71/2\n",
    "#for i in range(0,24):\n",
    "#    efluxes(data.loc[data['emins'] == 500])"
   ]
  },
  {
   "cell_type": "code",
   "execution_count": 7,
   "metadata": {},
   "outputs": [],
   "source": [
    "bin1 = data.loc[data['emins'] == 500]\n",
    "bin2 = data.loc[data['emins'] == bin1.iloc[0,1]]\n",
    "bin3 = data.loc[data['emins'] == bin2.iloc[0,1]]\n",
    "bin4 = data.loc[data['emins'] == bin3.iloc[0,1]]\n",
    "bin5 = data.loc[data['emins'] == bin4.iloc[0,1]]\n",
    "bin6 = data.loc[data['emins'] == bin5.iloc[0,1]]\n",
    "bin7 = data.loc[data['emins'] == bin6.iloc[0,1]]\n",
    "bin8 = data.loc[data['emins'] == bin7.iloc[0,1]]\n",
    "bin9 = data.loc[data['emins'] == bin8.iloc[0,1]]\n",
    "bin10 = data.loc[data['emins'] == bin9.iloc[0,1]]\n",
    "bin11 = data.loc[data['emins'] == bin10.iloc[0,1]]\n",
    "bin12 = data.loc[data['emins'] == bin11.iloc[0,1]]\n",
    "bin13 = data.loc[data['emins'] == bin12.iloc[0,1]]\n",
    "bin14 = data.loc[data['emins'] == bin13.iloc[0,1]]\n",
    "bin15 = data.loc[data['emins'] == bin14.iloc[0,1]]\n",
    "bin16 = data.loc[data['emins'] == bin15.iloc[0,1]]\n",
    "bin17 = data.loc[data['emins'] == bin16.iloc[0,1]]\n",
    "bin18 = data.loc[data['emins'] == bin17.iloc[0,1]]\n",
    "bin19 = data.loc[data['emins'] == bin18.iloc[0,1]]\n",
    "bin20 = data.loc[data['emins'] == bin19.iloc[0,1]]\n",
    "bin21 = data.loc[data['emins'] == bin20.iloc[0,1]]\n",
    "bin22 = data.loc[data['emins'] == bin21.iloc[0,1]]\n",
    "bin23 = data.loc[data['emins'] == bin22.iloc[0,1]]\n",
    "bin24 = data.loc[data['emins'] == bin23.iloc[0,1]]"
   ]
  },
  {
   "cell_type": "markdown",
   "metadata": {},
   "source": [
    "Interpret the eflux from each bin for a delta log like of -2.71/2"
   ]
  },
  {
   "cell_type": "code",
   "execution_count": 8,
   "metadata": {},
   "outputs": [],
   "source": [
    "#dll = -2.71/2\n",
    "#eflux1_interp = interp1d(bin1['logLikes'], bin1['efluxes'])\n",
    "#binefluxes = []\n",
    "#binefluxes.append(eflux1_interp(dll))"
   ]
  },
  {
   "cell_type": "code",
   "execution_count": 9,
   "metadata": {},
   "outputs": [],
   "source": [
    "binefluxes = []\n",
    "dll = -2.71/2"
   ]
  },
  {
   "cell_type": "code",
   "execution_count": 10,
   "metadata": {},
   "outputs": [],
   "source": [
    "def efluxes(bin):\n",
    "    interp = interp1d(bin['logLikes'], bin['efluxes'])\n",
    "    binefluxes.append(interp(dll))"
   ]
  },
  {
   "cell_type": "code",
   "execution_count": 11,
   "metadata": {},
   "outputs": [],
   "source": [
    "efluxes(bin1)\n",
    "efluxes(bin2)\n",
    "efluxes(bin3)\n",
    "efluxes(bin4)\n",
    "efluxes(bin5)\n",
    "efluxes(bin6)\n",
    "efluxes(bin7)\n",
    "efluxes(bin8)\n",
    "efluxes(bin9)\n",
    "efluxes(bin10)\n",
    "efluxes(bin11)\n",
    "efluxes(bin12)\n",
    "efluxes(bin13)\n",
    "efluxes(bin14)\n",
    "efluxes(bin15)\n",
    "efluxes(bin16)\n",
    "efluxes(bin17)\n",
    "efluxes(bin18)\n",
    "efluxes(bin19)\n",
    "efluxes(bin20)\n",
    "efluxes(bin21)\n",
    "efluxes(bin22)\n",
    "efluxes(bin23)\n",
    "efluxes(bin24)"
   ]
  },
  {
   "cell_type": "code",
   "execution_count": 12,
   "metadata": {},
   "outputs": [
    {
     "data": {
      "text/plain": [
       "[array(1.25653704e-07),\n",
       " array(1.90156488e-08),\n",
       " array(9.51497425e-08),\n",
       " array(4.11077354e-08),\n",
       " array(7.15624137e-08),\n",
       " array(2.37222464e-08),\n",
       " array(2.29813467e-08),\n",
       " array(6.25958284e-08),\n",
       " array(3.69897844e-08),\n",
       " array(4.41885642e-08),\n",
       " array(4.87816865e-08),\n",
       " array(1.4818582e-07),\n",
       " array(7.81253613e-08),\n",
       " array(1.57606502e-07),\n",
       " array(1.50424922e-07),\n",
       " array(4.13623209e-07),\n",
       " array(2.35642613e-07),\n",
       " array(3.15606961e-07),\n",
       " array(4.22753574e-07),\n",
       " array(5.678504e-07),\n",
       " array(7.60294405e-07),\n",
       " array(1.02597582e-06),\n",
       " array(1.36382399e-06),\n",
       " array(1.86842211e-06)]"
      ]
     },
     "execution_count": 12,
     "metadata": {},
     "output_type": "execute_result"
    }
   ],
   "source": [
    "binefluxes"
   ]
  },
  {
   "cell_type": "code",
   "execution_count": 13,
   "metadata": {},
   "outputs": [
    {
     "data": {
      "text/plain": [
       "array(1.90156488e-08)"
      ]
     },
     "execution_count": 13,
     "metadata": {},
     "output_type": "execute_result"
    }
   ],
   "source": [
    "binefluxes[1]"
   ]
  },
  {
   "cell_type": "markdown",
   "metadata": {},
   "source": [
    "Define function to find root of"
   ]
  },
  {
   "cell_type": "code",
   "execution_count": 14,
   "metadata": {},
   "outputs": [],
   "source": [
    "func = lambda sv : 1/(4*np.pi)*sv/(2*1000*1000)*10**(18.8)*2.49198"
   ]
  },
  {
   "cell_type": "code",
   "execution_count": 15,
   "metadata": {},
   "outputs": [],
   "source": [
    "sigmav = fsolve(func, 10**(-26))"
   ]
  },
  {
   "cell_type": "code",
   "execution_count": 16,
   "metadata": {},
   "outputs": [],
   "source": [
    "sigmav\n",
    "sv = np.logspace(10.**(-30), 10.**(-20))"
   ]
  },
  {
   "cell_type": "code",
   "execution_count": 17,
   "metadata": {},
   "outputs": [
    {
     "data": {
      "image/png": "[encoded data removed]",
      "text/plain": [
       "<Figure size 432x288 with 1 Axes>"
      ]
     },
     "metadata": {
      "needs_background": "light"
     },
     "output_type": "display_data"
    }
   ],
   "source": [
    "plt.loglog(sv, func(sv))\n",
    "plt.xlabel(\"sigmav\")\n",
    "plt.ylabel(\"eflux\")\n",
    "plt.grid()\n",
    "plt.show()"
   ]
  },
  {
   "cell_type": "code",
   "execution_count": 18,
   "metadata": {},
   "outputs": [
    {
     "data": {
      "text/plain": [
       "6.2561145598439615e-15"
      ]
     },
     "execution_count": 18,
     "metadata": {},
     "output_type": "execute_result"
    }
   ],
   "source": [
    "func(10**(-26))"
   ]
  },
  {
   "cell_type": "code",
   "execution_count": 19,
   "metadata": {},
   "outputs": [
    {
     "data": {
      "text/plain": [
       "array([1., 1., 1., 1., 1., 1., 1., 1., 1., 1., 1., 1., 1., 1., 1., 1., 1.,\n",
       "       1., 1., 1., 1., 1., 1., 1., 1., 1., 1., 1., 1., 1., 1., 1., 1., 1.,\n",
       "       1., 1., 1., 1., 1., 1., 1., 1., 1., 1., 1., 1., 1., 1., 1., 1.])"
      ]
     },
     "execution_count": 19,
     "metadata": {},
     "output_type": "execute_result"
    }
   ],
   "source": [
    "sv"
   ]
  },
  {
   "cell_type": "code",
   "execution_count": 20,
   "metadata": {},
   "outputs": [
    {
     "data": {
      "text/html": [
       "<div>\n",
       "<style scoped>\n",
       "    .dataframe tbody tr th:only-of-type {\n",
       "        vertical-align: middle;\n",
       "    }\n",
       "\n",
       "    .dataframe tbody tr th {\n",
       "        vertical-align: top;\n",
       "    }\n",
       "\n",
       "    .dataframe thead th {\n",
       "        text-align: right;\n",
       "    }\n",
       "</style>\n",
       "<table border=\"1\" class=\"dataframe\">\n",
       "  <thead>\n",
       "    <tr style=\"text-align: right;\">\n",
       "      <th></th>\n",
       "      <th>emins</th>\n",
       "      <th>emaxs</th>\n",
       "      <th>efluxes</th>\n",
       "      <th>logLikes</th>\n",
       "    </tr>\n",
       "  </thead>\n",
       "  <tbody>\n",
       "    <tr>\n",
       "      <th>250</th>\n",
       "      <td>8891.39705</td>\n",
       "      <td>11856.8685</td>\n",
       "      <td>0.000000e+00</td>\n",
       "      <td>0.000044</td>\n",
       "    </tr>\n",
       "    <tr>\n",
       "      <th>251</th>\n",
       "      <td>8891.39705</td>\n",
       "      <td>11856.8685</td>\n",
       "      <td>1.767673e-10</td>\n",
       "      <td>-0.004842</td>\n",
       "    </tr>\n",
       "    <tr>\n",
       "      <th>252</th>\n",
       "      <td>8891.39705</td>\n",
       "      <td>11856.8685</td>\n",
       "      <td>3.143417e-10</td>\n",
       "      <td>-0.008646</td>\n",
       "    </tr>\n",
       "    <tr>\n",
       "      <th>253</th>\n",
       "      <td>8891.39705</td>\n",
       "      <td>11856.8685</td>\n",
       "      <td>5.589874e-10</td>\n",
       "      <td>-0.015409</td>\n",
       "    </tr>\n",
       "    <tr>\n",
       "      <th>254</th>\n",
       "      <td>8891.39705</td>\n",
       "      <td>11856.8685</td>\n",
       "      <td>9.940358e-10</td>\n",
       "      <td>-0.027437</td>\n",
       "    </tr>\n",
       "    <tr>\n",
       "      <th>255</th>\n",
       "      <td>8891.39705</td>\n",
       "      <td>11856.8685</td>\n",
       "      <td>1.767673e-09</td>\n",
       "      <td>-0.048829</td>\n",
       "    </tr>\n",
       "    <tr>\n",
       "      <th>256</th>\n",
       "      <td>8891.39705</td>\n",
       "      <td>11856.8685</td>\n",
       "      <td>3.143417e-09</td>\n",
       "      <td>-0.086877</td>\n",
       "    </tr>\n",
       "    <tr>\n",
       "      <th>257</th>\n",
       "      <td>8891.39705</td>\n",
       "      <td>11856.8685</td>\n",
       "      <td>5.589874e-09</td>\n",
       "      <td>-0.154565</td>\n",
       "    </tr>\n",
       "    <tr>\n",
       "      <th>258</th>\n",
       "      <td>8891.39705</td>\n",
       "      <td>11856.8685</td>\n",
       "      <td>9.940358e-09</td>\n",
       "      <td>-0.275013</td>\n",
       "    </tr>\n",
       "    <tr>\n",
       "      <th>259</th>\n",
       "      <td>8891.39705</td>\n",
       "      <td>11856.8685</td>\n",
       "      <td>1.767673e-08</td>\n",
       "      <td>-0.489455</td>\n",
       "    </tr>\n",
       "    <tr>\n",
       "      <th>260</th>\n",
       "      <td>8891.39705</td>\n",
       "      <td>11856.8685</td>\n",
       "      <td>3.143417e-08</td>\n",
       "      <td>-0.871561</td>\n",
       "    </tr>\n",
       "    <tr>\n",
       "      <th>261</th>\n",
       "      <td>8891.39705</td>\n",
       "      <td>11856.8685</td>\n",
       "      <td>5.589874e-08</td>\n",
       "      <td>-1.553337</td>\n",
       "    </tr>\n",
       "    <tr>\n",
       "      <th>262</th>\n",
       "      <td>8891.39705</td>\n",
       "      <td>11856.8685</td>\n",
       "      <td>9.940358e-08</td>\n",
       "      <td>-2.772244</td>\n",
       "    </tr>\n",
       "    <tr>\n",
       "      <th>263</th>\n",
       "      <td>8891.39705</td>\n",
       "      <td>11856.8685</td>\n",
       "      <td>1.767673e-07</td>\n",
       "      <td>-4.957235</td>\n",
       "    </tr>\n",
       "    <tr>\n",
       "      <th>264</th>\n",
       "      <td>8891.39705</td>\n",
       "      <td>11856.8685</td>\n",
       "      <td>3.143417e-07</td>\n",
       "      <td>-8.885335</td>\n",
       "    </tr>\n",
       "    <tr>\n",
       "      <th>265</th>\n",
       "      <td>8891.39705</td>\n",
       "      <td>11856.8685</td>\n",
       "      <td>5.589874e-07</td>\n",
       "      <td>-15.963416</td>\n",
       "    </tr>\n",
       "    <tr>\n",
       "      <th>266</th>\n",
       "      <td>8891.39705</td>\n",
       "      <td>11856.8685</td>\n",
       "      <td>9.940358e-07</td>\n",
       "      <td>-28.729829</td>\n",
       "    </tr>\n",
       "    <tr>\n",
       "      <th>267</th>\n",
       "      <td>8891.39705</td>\n",
       "      <td>11856.8685</td>\n",
       "      <td>1.767673e-06</td>\n",
       "      <td>-51.746010</td>\n",
       "    </tr>\n",
       "    <tr>\n",
       "      <th>268</th>\n",
       "      <td>8891.39705</td>\n",
       "      <td>11856.8685</td>\n",
       "      <td>3.143417e-06</td>\n",
       "      <td>-93.187044</td>\n",
       "    </tr>\n",
       "    <tr>\n",
       "      <th>269</th>\n",
       "      <td>8891.39705</td>\n",
       "      <td>11856.8685</td>\n",
       "      <td>5.589874e-06</td>\n",
       "      <td>-167.679720</td>\n",
       "    </tr>\n",
       "    <tr>\n",
       "      <th>270</th>\n",
       "      <td>8891.39705</td>\n",
       "      <td>11856.8685</td>\n",
       "      <td>9.940358e-06</td>\n",
       "      <td>-301.354394</td>\n",
       "    </tr>\n",
       "    <tr>\n",
       "      <th>271</th>\n",
       "      <td>8891.39705</td>\n",
       "      <td>11856.8685</td>\n",
       "      <td>1.767673e-05</td>\n",
       "      <td>-540.824689</td>\n",
       "    </tr>\n",
       "    <tr>\n",
       "      <th>272</th>\n",
       "      <td>8891.39705</td>\n",
       "      <td>11856.8685</td>\n",
       "      <td>3.143417e-05</td>\n",
       "      <td>-969.143008</td>\n",
       "    </tr>\n",
       "    <tr>\n",
       "      <th>273</th>\n",
       "      <td>8891.39705</td>\n",
       "      <td>11856.8685</td>\n",
       "      <td>5.589874e-05</td>\n",
       "      <td>-1734.154740</td>\n",
       "    </tr>\n",
       "    <tr>\n",
       "      <th>274</th>\n",
       "      <td>8891.39705</td>\n",
       "      <td>11856.8685</td>\n",
       "      <td>9.940358e-05</td>\n",
       "      <td>-3098.905970</td>\n",
       "    </tr>\n",
       "  </tbody>\n",
       "</table>\n",
       "</div>"
      ],
      "text/plain": [
       "          emins       emaxs       efluxes     logLikes\n",
       "250  8891.39705  11856.8685  0.000000e+00     0.000044\n",
       "251  8891.39705  11856.8685  1.767673e-10    -0.004842\n",
       "252  8891.39705  11856.8685  3.143417e-10    -0.008646\n",
       "253  8891.39705  11856.8685  5.589874e-10    -0.015409\n",
       "254  8891.39705  11856.8685  9.940358e-10    -0.027437\n",
       "255  8891.39705  11856.8685  1.767673e-09    -0.048829\n",
       "256  8891.39705  11856.8685  3.143417e-09    -0.086877\n",
       "257  8891.39705  11856.8685  5.589874e-09    -0.154565\n",
       "258  8891.39705  11856.8685  9.940358e-09    -0.275013\n",
       "259  8891.39705  11856.8685  1.767673e-08    -0.489455\n",
       "260  8891.39705  11856.8685  3.143417e-08    -0.871561\n",
       "261  8891.39705  11856.8685  5.589874e-08    -1.553337\n",
       "262  8891.39705  11856.8685  9.940358e-08    -2.772244\n",
       "263  8891.39705  11856.8685  1.767673e-07    -4.957235\n",
       "264  8891.39705  11856.8685  3.143417e-07    -8.885335\n",
       "265  8891.39705  11856.8685  5.589874e-07   -15.963416\n",
       "266  8891.39705  11856.8685  9.940358e-07   -28.729829\n",
       "267  8891.39705  11856.8685  1.767673e-06   -51.746010\n",
       "268  8891.39705  11856.8685  3.143417e-06   -93.187044\n",
       "269  8891.39705  11856.8685  5.589874e-06  -167.679720\n",
       "270  8891.39705  11856.8685  9.940358e-06  -301.354394\n",
       "271  8891.39705  11856.8685  1.767673e-05  -540.824689\n",
       "272  8891.39705  11856.8685  3.143417e-05  -969.143008\n",
       "273  8891.39705  11856.8685  5.589874e-05 -1734.154740\n",
       "274  8891.39705  11856.8685  9.940358e-05 -3098.905970"
      ]
     },
     "execution_count": 20,
     "metadata": {},
     "output_type": "execute_result"
    }
   ],
   "source": [
    "bin11"
   ]
  },
  {
   "cell_type": "code",
   "execution_count": 21,
   "metadata": {},
   "outputs": [
    {
     "data": {
      "text/plain": [
       "array(4.87816865e-08)"
      ]
     },
     "execution_count": 21,
     "metadata": {},
     "output_type": "execute_result"
    }
   ],
   "source": [
    "interp = interp1d(bin11['logLikes'], bin11['efluxes'])\n",
    "interp(dll)"
   ]
  },
  {
   "cell_type": "code",
   "execution_count": 22,
   "metadata": {},
   "outputs": [
    {
     "data": {
      "text/plain": [
       "1.355"
      ]
     },
     "execution_count": 22,
     "metadata": {},
     "output_type": "execute_result"
    }
   ],
   "source": [
    "2.71/2"
   ]
  },
  {
   "cell_type": "code",
   "execution_count": 23,
   "metadata": {},
   "outputs": [
    {
     "data": {
      "text/plain": [
       "6.256114559843961e-13"
      ]
     },
     "execution_count": 23,
     "metadata": {},
     "output_type": "execute_result"
    }
   ],
   "source": [
    "1/(4*np.pi)*(10**(-24))/(2*1000*1000)*10**(18.8)*2.49198"
   ]
  },
  {
   "cell_type": "code",
   "execution_count": 24,
   "metadata": {},
   "outputs": [],
   "source": [
    "data = np.loadtxt(likefile, unpack=True)\n",
    "emins, emaxs = np.unique(data[0]),np.unique(data[1])"
   ]
  },
  {
   "cell_type": "code",
   "execution_count": 25,
   "metadata": {},
   "outputs": [
    {
     "data": {
      "text/plain": [
       "array([   500.      ,    666.760716,    889.139705,   1185.68685 ,\n",
       "         1581.13883 ,   2108.48252 ,   2811.70663 ,   3749.47105 ,\n",
       "         5000.      ,   6667.60716 ,   8891.39705 ,  11856.8685  ,\n",
       "        15811.3883  ,  21084.8252  ,  28117.0663  ,  37494.7105  ,\n",
       "        50000.      ,  66676.0716  ,  88913.9705  , 118568.685   ,\n",
       "       158113.883   , 210848.252   , 281170.663   , 374947.105   ])"
      ]
     },
     "execution_count": 25,
     "metadata": {},
     "output_type": "execute_result"
    }
   ],
   "source": [
    "emins"
   ]
  },
  {
   "cell_type": "code",
   "execution_count": null,
   "metadata": {},
   "outputs": [],
   "source": []
  }
 ],
 "metadata": {
  "kernelspec": {
   "display_name": "Python 3",
   "language": "python",
   "name": "python3"
  },
  "language_info": {
   "codemirror_mode": {
    "name": "ipython",
    "version": 3
   },
   "file_extension": ".py",
   "mimetype": "text/x-python",
   "name": "python",
   "nbconvert_exporter": "python",
   "pygments_lexer": "ipython3",
   "version": "3.8.6"
  }
 },
 "nbformat": 4,
 "nbformat_minor": 4
}
